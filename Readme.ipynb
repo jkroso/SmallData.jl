{
 "cells": [
  {
   "cell_type": "markdown",
   "metadata": {},
   "source": [
    "# SmallData.jl\n",
    "\n",
    "This project is part of a thought experiment. If there was only one computer shared by the whole world which had unlimited memory and could never crash, what would our databases look like. I want to figure this out and then see how close I can get with a real computer.\n",
    "\n",
    "What I have so far is a higher level interface over SQLite.jl which presents SQL tables as if they were strongly typed in memory `Vectors` of objects."
   ]
  },
  {
   "cell_type": "code",
   "execution_count": 1,
   "metadata": {
    "collapsed": false
   },
   "outputs": [
    {
     "name": "stderr",
     "output_type": "stream",
     "text": [
      "WARNING: Method definition read(Base.AbstractIOBuffer, Type{UInt8}) in module Base overwritten in module CSV at /Users/jkroso/.julia/v0.4/CSV/src/Source.jl:13.\n"
     ]
    }
   ],
   "source": [
    "@require \".\" Table DB;"
   ]
  },
  {
   "cell_type": "markdown",
   "metadata": {},
   "source": [
    "## API\n",
    "\n",
    "First you create a database connection. Normally you would pass in a filename where the database should be stored on disk but in this case we are just creating an in memory instance"
   ]
  },
  {
   "cell_type": "code",
   "execution_count": 2,
   "metadata": {
    "collapsed": false
   },
   "outputs": [
    {
     "data": {
      "text/plain": [
       "SQLite.DB(in-memory)"
      ]
     },
     "execution_count": 2,
     "metadata": {},
     "output_type": "execute_result"
    }
   ],
   "source": [
    "db = DB()"
   ]
  },
  {
   "cell_type": "markdown",
   "metadata": {},
   "source": [
    "Next we declare a table. If the `DB` already has this table then it will use it rather than create a new one"
   ]
  },
  {
   "cell_type": "code",
   "execution_count": 3,
   "metadata": {
    "collapsed": false
   },
   "outputs": [
    {
     "data": {
      "text/plain": [
       "0x2 UnitRange{Int64} Table\n",
       "| start | stop |\n",
       "|--------------|\n"
      ]
     },
     "execution_count": 3,
     "metadata": {},
     "output_type": "execute_result"
    }
   ],
   "source": [
    "ranges = Table{UnitRange{Int}}(db)"
   ]
  },
  {
   "cell_type": "markdown",
   "metadata": {},
   "source": [
    "From here on out everything you do is done the same way you would if `ranges` was a `Vector`"
   ]
  },
  {
   "cell_type": "code",
   "execution_count": 4,
   "metadata": {
    "collapsed": false
   },
   "outputs": [
    {
     "data": {
      "text/plain": [
       "1x2 UnitRange{Int64} Table\n",
       "| start | stop |\n",
       "|--------------|\n",
       "|     1 |    3 |\n"
      ]
     },
     "execution_count": 4,
     "metadata": {},
     "output_type": "execute_result"
    }
   ],
   "source": [
    "push!(ranges, 1:3)"
   ]
  },
  {
   "cell_type": "code",
   "execution_count": 5,
   "metadata": {
    "collapsed": false
   },
   "outputs": [
    {
     "data": {
      "text/plain": [
       "1:3"
      ]
     },
     "execution_count": 5,
     "metadata": {},
     "output_type": "execute_result"
    }
   ],
   "source": [
    "ranges[1]"
   ]
  },
  {
   "cell_type": "markdown",
   "metadata": {},
   "source": [
    "And we can have multiple instances of the same table and they share their underlying storage. This means you can have several processes sharing the same data"
   ]
  },
  {
   "cell_type": "code",
   "execution_count": 6,
   "metadata": {
    "collapsed": false
   },
   "outputs": [
    {
     "data": {
      "text/plain": [
       "4x2 UnitRange{Int64} Table\n",
       "| start | stop |\n",
       "|--------------|\n",
       "|     1 |    3 |\n",
       "|     6 |    7 |\n",
       "|     1 |    5 |\n",
       "|    21 |   22 |\n"
      ]
     },
     "execution_count": 6,
     "metadata": {},
     "output_type": "execute_result"
    }
   ],
   "source": [
    "push!(Table{UnitRange{Int}}(db), 6:7, 1:5, 21:22)"
   ]
  },
  {
   "cell_type": "markdown",
   "metadata": {},
   "source": [
    "## Filtering tables\n",
    "\n"
   ]
  },
  {
   "cell_type": "markdown",
   "metadata": {},
   "source": [
    "Again the API is just as it would be with a `Vector` but I should mention this is a lot more efficient than you would guess. You probably think it would iterate over all values. It doesn't. Instead it compiles the function to SQL so it can be run by SQLite."
   ]
  },
  {
   "cell_type": "code",
   "execution_count": 7,
   "metadata": {
    "collapsed": false
   },
   "outputs": [
    {
     "data": {
      "text/plain": [
       "2x2 UnitRange{Int64} Table WHERE start = 1\n",
       "| start | stop |\n",
       "|--------------|\n",
       "|     1 |    3 |\n",
       "|     1 |    5 |\n"
      ]
     },
     "execution_count": 7,
     "metadata": {},
     "output_type": "execute_result"
    }
   ],
   "source": [
    "filter(range -> range.start == 1, ranges)"
   ]
  }
 ],
 "metadata": {
  "kernelspec": {
   "display_name": "Julia 0.4.3",
   "language": "julia",
   "name": "julia-0.4"
  },
  "language_info": {
   "file_extension": ".jl",
   "mimetype": "application/julia",
   "name": "julia",
   "version": "0.4.3"
  }
 },
 "nbformat": 4,
 "nbformat_minor": 0
}
